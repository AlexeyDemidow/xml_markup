{
 "cells": [
  {
   "cell_type": "code",
   "execution_count": 20,
   "metadata": {
    "collapsed": true,
    "pycharm": {
     "name": "#%%\n"
    }
   },
   "outputs": [],
   "source": [
    "# Тестовое задание по работе с разметкой на стажера тех отдела TrainingData.Solutions"
   ]
  },
  {
   "cell_type": "code",
   "execution_count": 21,
   "outputs": [],
   "source": [
    "import xml.etree.ElementTree as ET\n",
    "import os\n",
    "\n",
    "files = ['annotations.xml', 'annotations-2.xml', 'annotations-3.xml']"
   ],
   "metadata": {
    "collapsed": false,
    "pycharm": {
     "name": "#%%\n"
    }
   }
  },
  {
   "cell_type": "code",
   "execution_count": 22,
   "outputs": [
    {
     "name": "stdout",
     "output_type": "stream",
     "text": [
      "Общая статистика:\n",
      "\tВсего изображений: 3423\n",
      "\tВсего изображений размечено: 794\n",
      "\tВсего неразмеченных изображений: 2629\n",
      "\tВсего фигур: 2001\n",
      "\n",
      "\tИзображение с наименьшим разрешением:\n",
      "\t\tИмя: ftp/RD/1000_samples/1d6a77a9-fbd3-4741-ac14-e7ce72db2a93_2827596505970.jpg \n",
      "\t\tШирина: 1280 \n",
      "\t\tВысота: 804\n",
      "\tКоличество изображений с наименьшим разрешением: 100\n",
      "\n",
      "\tИзображение с наибольшим разрешением:\n",
      "\t\tИмя: ftp/RD/1000_samples/0302bada-804c-48f8-b3d8-3dad1cc66805_1647587360891.jpg \n",
      "\t\tШирина: 6000 \n",
      "\t\tВысота: 4000\n",
      "\tКоличество изображений с наибольшим разрешением: 1\n",
      "\n"
     ]
    }
   ],
   "source": [
    "all_images = 0\n",
    "all_with_markup_images = 0\n",
    "all_without_markup_images = 0\n",
    "all_shapes_count = 0\n",
    "resolutions = []\n",
    "elements = {}\n",
    "\n",
    "for file in files:\n",
    "    tree = ET.parse(file)\n",
    "    root = tree.getroot()\n",
    "\n",
    "    # 1\n",
    "    images = 0\n",
    "    for elem in root.findall('image'):\n",
    "        images += 1\n",
    "    all_images += images\n",
    "\n",
    "    # 2\n",
    "    with_markup_images = 0\n",
    "    for elem in root.findall('image'):\n",
    "        if len(elem) > 0:\n",
    "            with_markup_images += 1\n",
    "    all_with_markup_images += with_markup_images\n",
    "\n",
    "    # 3\n",
    "    without_markup_images = 0\n",
    "    for elem in root.findall('image'):\n",
    "        if len(elem) == 0:\n",
    "            without_markup_images += 1\n",
    "    all_without_markup_images += without_markup_images\n",
    "\n",
    "    # 5\n",
    "    shapes_count = 0\n",
    "    for elem in root.findall('image'):\n",
    "        for subelem in elem:\n",
    "            shapes_count += 1\n",
    "    all_shapes_count += shapes_count\n",
    "\n",
    "    # 6\n",
    "    for elem in root.findall('image'):\n",
    "        resolutions.append(f\"{int(elem.get('width')) * int(elem.get('height'))}\")\n",
    "        elements[elem.get('width'), elem.get('height')] = elem.get('name')\n",
    "\n",
    "print('Общая статистика:')\n",
    "print(f'\\tВсего изображений: {all_images}')\n",
    "print(f'\\tВсего изображений размечено: {all_with_markup_images}')\n",
    "print(f'\\tВсего неразмеченных изображений: {all_without_markup_images}')\n",
    "print(f'\\tВсего фигур: {all_shapes_count}')\n",
    "print()\n",
    "if len(list(elements.values())) > 1:\n",
    "    print(f'\\tИзображение с наименьшим разрешением:\\n\\t\\tИмя: {list(elements.values())[0]} \\n\\t\\tШирина: {list(min(elements.keys()))[0]} \\n\\t\\tВысота: {list(min(elements.keys()))[1]}')\n",
    "    print(f'\\tКоличество изображений с наименьшим разрешением: {resolutions.count(min(resolutions))}')\n",
    "    print()\n",
    "    print(f'\\tИзображение с наибольшим разрешением:\\n\\t\\tИмя: {list(elements.values())[1]} \\n\\t\\tШирина: {list(max(elements.keys()))[0]} \\n\\t\\tВысота: {list(max(elements.keys()))[1]}')\n",
    "    print(f'\\tКоличество изображений с наибольшим разрешением: {resolutions.count(max(resolutions))}')\n",
    "else:\n",
    "    print(f'\\tИзображение:\\n\\t\\tИмя: {list(elements.values())[0]} \\n\\t\\tШирина: {list(min(elements.keys()))[0]} \\n\\t\\tВысота: {list(min(elements.keys()))[1]}')\n",
    "    print(f'\\tКоличество изображений с таким разрешением разрешением: {resolutions.count(min(resolutions))}')\n",
    "print()"
   ],
   "metadata": {
    "collapsed": false,
    "pycharm": {
     "name": "#%%\n"
    }
   }
  },
  {
   "cell_type": "code",
   "execution_count": 23,
   "outputs": [
    {
     "name": "stdout",
     "output_type": "stream",
     "text": [
      "Статистика по классам:\n",
      "\tКласс \"ignore\": 543 фигур(ы).\n",
      "\tКласс \"grab\": 190 фигур(ы).\n",
      "\tКласс \"fur\": 34 фигур(ы).\n",
      "\tКласс \"Дублирующий\": 89 фигур(ы).\n",
      "\tКласс \"vagon\": 939 фигур(ы).\n",
      "\tКласс \"Основной\": 140 фигур(ы).\n",
      "\tКласс \"Светофор на другой дороге\": 3 фигур(ы).\n",
      "\tКласс \"item\": 63 фигур(ы).\n",
      "\n"
     ]
    }
   ],
   "source": [
    "labels = []\n",
    "for file in files:\n",
    "    tree = ET.parse(file)\n",
    "    root = tree.getroot()\n",
    "\n",
    "    # 4\n",
    "    for elem in root.findall('image'):\n",
    "        for subelem in elem:\n",
    "            labels.append(subelem.get('label'))\n",
    "\n",
    "print('Статистика по классам:')\n",
    "for label in set(labels):\n",
    "    print(f'\\tКласс \"{label}\": {labels.count(label)} фигур(ы).')\n",
    "print()"
   ],
   "metadata": {
    "collapsed": false,
    "pycharm": {
     "name": "#%%\n"
    }
   }
  },
  {
   "cell_type": "code",
   "execution_count": 24,
   "outputs": [
    {
     "name": "stdout",
     "output_type": "stream",
     "text": [
      "Статистика по фигурам:\n",
      "\tbox: 1361\n",
      "\tpolygon: 640\n",
      "\n"
     ]
    }
   ],
   "source": [
    "shapes = []\n",
    "for file in files:\n",
    "    tree = ET.parse(file)\n",
    "    root = tree.getroot()\n",
    "\n",
    "    # 5*\n",
    "    for elem in root.findall('image'):\n",
    "        for subelem in elem:\n",
    "            shapes.append(subelem.tag)\n",
    "\n",
    "print('Статистика по фигурам:')\n",
    "for shape in set(shapes):\n",
    "    print(f'\\t{shape}: {shapes.count(shape)}')\n",
    "print()"
   ],
   "metadata": {
    "collapsed": false,
    "pycharm": {
     "name": "#%%\n"
    }
   }
  },
  {
   "cell_type": "code",
   "execution_count": 25,
   "outputs": [],
   "source": [
    "for file in files:\n",
    "    tree = ET.parse(file)\n",
    "    root = tree.getroot()\n",
    "\n",
    "    # 7\n",
    "    id_counter = -1\n",
    "    for elem in root.iter('image'):\n",
    "        id_counter += 1\n",
    "        elem.set('id', str(id_counter))\n",
    "\n",
    "    # 8\n",
    "    for elem in root.iter('image'):\n",
    "        format_name = elem.get('name').split('.')[0]\n",
    "        elem.set('name', format_name + '.png')\n",
    "\n",
    "    # 9\n",
    "    for elem in root.iter('image'):\n",
    "        short_name = elem.get('name').split('/')[-1]\n",
    "        elem.set('name', short_name)\n",
    "\n",
    "    result = 'result/'\n",
    "    if not os.path.exists(result):\n",
    "        os.makedirs(result)\n",
    "    tree.write(result + 'new_' + file, encoding='utf-8')"
   ],
   "metadata": {
    "collapsed": false,
    "pycharm": {
     "name": "#%%\n"
    }
   }
  },
  {
   "cell_type": "code",
   "execution_count": 25,
   "outputs": [],
   "source": [],
   "metadata": {
    "collapsed": false,
    "pycharm": {
     "name": "#%%\n"
    }
   }
  }
 ],
 "metadata": {
  "kernelspec": {
   "display_name": "Python 3",
   "language": "python",
   "name": "python3"
  },
  "language_info": {
   "codemirror_mode": {
    "name": "ipython",
    "version": 2
   },
   "file_extension": ".py",
   "mimetype": "text/x-python",
   "name": "python",
   "nbconvert_exporter": "python",
   "pygments_lexer": "ipython2",
   "version": "2.7.6"
  }
 },
 "nbformat": 4,
 "nbformat_minor": 0
}